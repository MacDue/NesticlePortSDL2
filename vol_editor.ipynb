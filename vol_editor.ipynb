{
 "cells": [
  {
   "cell_type": "code",
   "execution_count": 48,
   "metadata": {},
   "outputs": [],
   "source": [
    "import struct\n",
    "from collections import OrderedDict"
   ]
  },
  {
   "cell_type": "code",
   "execution_count": 57,
   "metadata": {},
   "outputs": [],
   "source": [
    "HEADER_FMT = '<4scI9s'\n",
    "HEADER_SIZE = struct.calcsize(HEADER_FMT)\n",
    "\n",
    "def load_vol(path):\n",
    "    vol_data = OrderedDict()\n",
    "    with open(path, 'rb') as vol:\n",
    "        while True:\n",
    "            header_bytes = vol.read(HEADER_SIZE)\n",
    "            if not header_bytes:\n",
    "                break\n",
    "            key, type_, size, name \\\n",
    "                = struct.unpack(HEADER_FMT, header_bytes)\n",
    "            entry_data = vol.read(size)\n",
    "            name = name.decode('utf-8').split('\\0')[0]\n",
    "            vol_data[name] = (type_, entry_data)\n",
    "    return vol_data"
   ]
  },
  {
   "cell_type": "code",
   "execution_count": 134,
   "metadata": {},
   "outputs": [
    {
     "data": {
      "text/plain": [
       "odict_keys(['gui', 'bg.lbm', 'cursor.r2', 'font.fnt', 'sfont.fnt', 'check.r2', 'umark.r2', 'dmark.r2', 'lmark.r2', 'rmark.r2', 'sumark.r2', 'sdmark.r2', 'wx.r2', 'wm.r2', 'mcheck.r2', 'menur.r2', 'nes.r2', 'dir.r2', 'drive.r2', 'bc1.r2', 'bc2.r2', 'bc3.r2', 'bc4.r2', 'shitman.r'])"
      ]
     },
     "execution_count": 134,
     "metadata": {},
     "output_type": "execute_result"
    }
   ],
   "source": [
    "found_vol = load_vol('./gui.vol.old')\n",
    "found_vol.keys()"
   ]
  },
  {
   "cell_type": "markdown",
   "metadata": {},
   "source": [
    " ```c\n",
    " struct PALETTE *pal; //default palette\n",
    " struct IMG *cursor; //cursor\n",
    " struct FONT *font; //first font\n",
    " struct IMG *checkmark; //checkmark\n",
    " struct IMG *umark,*dmark,*lmark,*rmark; //arrows for scroll bar\n",
    " struct IMG *about; //buddy's head\n",
    " struct IMG *shadowsel; //dumb shadow\n",
    "\n",
    " struct IMG *play,*stop,*playlooped,*active; //control icons\n",
    "\n",
    " struct IMG *xmark;\n",
    "```"
   ]
  },
  {
   "cell_type": "code",
   "execution_count": 92,
   "metadata": {},
   "outputs": [
    {
     "data": {
      "text/plain": [
       "(2, b'\\x00\\x00\\x00\\x00\\x00\\x00\\x00\\x00\\x00\\x00\\x00\\x00\\x00\\x00\\x00\\x00')"
      ]
     },
     "execution_count": 92,
     "metadata": {},
     "output_type": "execute_result"
    }
   ],
   "source": [
    "IMG_FMT = '<iiii'\n",
    "dummy_img = (2, struct.pack(IMG_FMT,0,0,0,0))\n",
    "dummy_img"
   ]
  },
  {
   "cell_type": "code",
   "execution_count": 142,
   "metadata": {},
   "outputs": [],
   "source": [
    "fixed_vol = OrderedDict()\n",
    "fixed_vol['gui'] = found_vol['gui']\n",
    "fixed_vol['bg.lbm'] = found_vol['bg.lbm']\n",
    "fixed_vol['cursor.r2'] = found_vol['cursor.r2']\n",
    "fixed_vol['font.fnt'] = found_vol['font.fnt']\n",
    "fixed_vol['check.r2'] = found_vol['check.r2']\n",
    "\n",
    "fixed_vol['umark.r2'] = found_vol['umark.r2']\n",
    "fixed_vol['dmark.r2'] = found_vol['dmark.r2']\n",
    "fixed_vol['lmark.r2'] = found_vol['lmark.r2']\n",
    "fixed_vol['rmark.r2'] = found_vol['rmark.r2']\n",
    "\n",
    "fixed_vol['shitman.r'] = found_vol['shitman.r']\n",
    "\n",
    "fixed_vol['dum.r2@0'] = dummy_img\n",
    "fixed_vol['dum.r2@1'] = dummy_img\n",
    "fixed_vol['dum.r2@2'] = dummy_img\n",
    "fixed_vol['dum.r2@3'] = dummy_img\n",
    "fixed_vol['dum.r2@4'] = dummy_img\n",
    "fixed_vol['dum.r2@5'] = dummy_img"
   ]
  },
  {
   "cell_type": "code",
   "execution_count": 80,
   "metadata": {},
   "outputs": [
    {
     "data": {
      "text/plain": [
       "b'HELLO'"
      ]
     },
     "execution_count": 80,
     "metadata": {},
     "output_type": "execute_result"
    }
   ],
   "source": [
    "bytes('HELLO', 'ascii')"
   ]
  },
  {
   "cell_type": "code",
   "execution_count": 84,
   "metadata": {},
   "outputs": [
    {
     "data": {
      "text/plain": [
       "b'\\x00'"
      ]
     },
     "execution_count": 84,
     "metadata": {},
     "output_type": "execute_result"
    }
   ],
   "source": [
    "(1)"
   ]
  },
  {
   "cell_type": "code",
   "execution_count": 143,
   "metadata": {},
   "outputs": [],
   "source": [
    "def write_vol(vol_data, path):\n",
    "    with open(path, 'wb') as vol:\n",
    "        for key, (type_, data) in vol_data.items():\n",
    "            if not isinstance(type_, bytes):\n",
    "                type_ = bytes([type_])\n",
    "            hdr = struct.pack(HEADER_FMT, bytes('DSL', 'ascii'), type_, len(data), bytes(key, 'ascii'))\n",
    "            vol.write(hdr)\n",
    "            vol.write(data)"
   ]
  },
  {
   "cell_type": "code",
   "execution_count": 144,
   "metadata": {},
   "outputs": [],
   "source": [
    "write_vol(fixed_vol, './gui.vol')"
   ]
  },
  {
   "cell_type": "code",
   "execution_count": 145,
   "metadata": {},
   "outputs": [
    {
     "data": {
      "text/plain": [
       "odict_keys(['gui', 'bg.lbm', 'cursor.r2', 'font.fnt', 'check.r2', 'umark.r2', 'dmark.r2', 'lmark.r2', 'rmark.r2', 'shitman.r', 'dum.r2@0', 'dum.r2@1', 'dum.r2@2', 'dum.r2@3', 'dum.r2@4', 'dum.r2@5'])"
      ]
     },
     "execution_count": 145,
     "metadata": {},
     "output_type": "execute_result"
    }
   ],
   "source": [
    "load_vol('./gui.vol').keys()"
   ]
  }
 ],
 "metadata": {
  "kernelspec": {
   "display_name": "Python 3",
   "language": "python",
   "name": "python3"
  },
  "language_info": {
   "codemirror_mode": {
    "name": "ipython",
    "version": 3
   },
   "file_extension": ".py",
   "mimetype": "text/x-python",
   "name": "python",
   "nbconvert_exporter": "python",
   "pygments_lexer": "ipython3",
   "version": "3.6.6"
  }
 },
 "nbformat": 4,
 "nbformat_minor": 4
}
